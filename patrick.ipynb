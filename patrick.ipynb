{
 "cells": [
  {
   "cell_type": "code",
   "execution_count": 2,
   "id": "192254ae",
   "metadata": {},
   "outputs": [],
   "source": [
    "import numpy as np"
   ]
  },
  {
   "cell_type": "code",
   "execution_count": 9,
   "id": "eb3246bc",
   "metadata": {},
   "outputs": [],
   "source": [
    "def devaluation(c,r, tf):\n",
    "    arr = np.arange(1/2,tf+1/2,1/2)\n",
    "    deval = 0 \n",
    "    for proc in arr:\n",
    "        cashflow = c/2\n",
    "        if proc == tf:\n",
    "            cashflow+=100\n",
    "        deval+= cashflow*np.power(np.exp(1),(-r*proc))\n",
    "    return deval\n",
    "\n",
    "def BEY(p0,c,tf):\n",
    "    return bis (lambda y: devaluation(c,y,tf)-p0,0,0.5,10e-8)"
   ]
  },
  {
   "cell_type": "code",
   "execution_count": 11,
   "id": "1b8c22e8",
   "metadata": {},
   "outputs": [
    {
     "name": "stdout",
     "output_type": "stream",
     "text": [
      "0.09758032858371735\n"
     ]
    }
   ],
   "source": [
    "print(BEY(100,10,3))"
   ]
  },
  {
   "cell_type": "code",
   "execution_count": 29,
   "id": "8910d123",
   "metadata": {},
   "outputs": [],
   "source": [
    "def duration(c,r,tf):\n",
    "    b = devaluation(c,r,tf)\n",
    "    arr = np.arange(1/2,tf+1/2,1/2)\n",
    "    dur = 0 \n",
    "    for proc in arr:\n",
    "        cashflow = c/2\n",
    "        if proc == tf:\n",
    "            cashflow+=100\n",
    "        dur+=proc*cashflow*np.power(np.exp(1),(-r*proc))\n",
    "    return dur/b\n",
    "def newyield(c,r1,r2,tf):\n",
    "    dur = duration(c,r1,tf)\n",
    "    return devaluation(c,r1,tf)*(1-duration(c,r1,tf)*(r2-r1))"
   ]
  },
  {
   "cell_type": "code",
   "execution_count": 30,
   "id": "34389607",
   "metadata": {},
   "outputs": [
    {
     "name": "stdout",
     "output_type": "stream",
     "text": [
      "10.0\n"
     ]
    }
   ],
   "source": [
    "r = BEY(70,0,10)\n",
    "print(duration(0,r,10))"
   ]
  },
  {
   "cell_type": "code",
   "execution_count": 31,
   "id": "dde18602",
   "metadata": {},
   "outputs": [
    {
     "data": {
      "text/plain": [
       "1.91726480969967"
      ]
     },
     "execution_count": 31,
     "metadata": {},
     "output_type": "execute_result"
    }
   ],
   "source": [
    "duration(5.8,0.05457,2)"
   ]
  },
  {
   "cell_type": "code",
   "execution_count": 38,
   "id": "04684aa1",
   "metadata": {},
   "outputs": [
    {
     "data": {
      "text/plain": [
       "69.78999999219205"
      ]
     },
     "execution_count": 38,
     "metadata": {},
     "output_type": "execute_result"
    }
   ],
   "source": [
    "c = 0\n",
    "tf = 10\n",
    "p0 = 70\n",
    "\n",
    "r = BEY(p0,c,tf)\n",
    "newyield(c,r,r+0.0003,tf)"
   ]
  },
  {
   "cell_type": "code",
   "execution_count": 5,
   "id": "75403c5f",
   "metadata": {},
   "outputs": [],
   "source": [
    "def bis(f, a, b, tol): \n",
    "    if np.sign(f(a)) == np.sign(f(b)):\n",
    "        raise Exception(\n",
    "         \"The scalars a and b do not bound a root\")\n",
    "    m = (a + b)/2\n",
    "    \n",
    "    if np.abs(f(m)) < tol:\n",
    "        return m\n",
    "    elif np.sign(f(a)) == np.sign(f(m)):\n",
    "        return bis(f, m, b, tol)\n",
    "    elif np.sign(f(b)) == np.sign(f(m)):\n",
    "        return bis(f, a, m, tol)"
   ]
  },
  {
   "cell_type": "code",
   "execution_count": null,
   "id": "bd33cc76",
   "metadata": {},
   "outputs": [],
   "source": []
  },
  {
   "cell_type": "code",
   "execution_count": null,
   "id": "2e757918",
   "metadata": {},
   "outputs": [],
   "source": []
  }
 ],
 "metadata": {
  "kernelspec": {
   "display_name": "Python 3",
   "language": "python",
   "name": "python3"
  },
  "language_info": {
   "codemirror_mode": {
    "name": "ipython",
    "version": 3
   },
   "file_extension": ".py",
   "mimetype": "text/x-python",
   "name": "python",
   "nbconvert_exporter": "python",
   "pygments_lexer": "ipython3",
   "version": "3.9.4"
  }
 },
 "nbformat": 4,
 "nbformat_minor": 5
}
